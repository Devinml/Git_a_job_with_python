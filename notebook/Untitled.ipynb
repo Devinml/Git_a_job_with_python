{
 "cells": [
  {
   "cell_type": "code",
   "execution_count": 1,
   "metadata": {},
   "outputs": [],
   "source": [
    "import pandas as pd"
   ]
  },
  {
   "cell_type": "code",
   "execution_count": 2,
   "metadata": {},
   "outputs": [],
   "source": [
    "df = pd.read_csv('../data/first_1000_Sea.csv')"
   ]
  },
  {
   "cell_type": "code",
   "execution_count": 9,
   "metadata": {},
   "outputs": [],
   "source": [
    "for index, frame in df.iterrows():\n",
    "    if 'Luxel' in frame['Company']:\n",
    "        df2 = frame"
   ]
  },
  {
   "cell_type": "code",
   "execution_count": 11,
   "metadata": {},
   "outputs": [
    {
     "name": "stdout",
     "output_type": "stream",
     "text": [
      "Company                                                                    Luxel Corporation\n",
      "Award Title                                High Throughput Soft X-Ray Filters with Enhanc...\n",
      "Agency                                         National Aeronautics and Space Administration\n",
      "Branch                                                                                   NaN\n",
      "Phase                                                                                Phase I\n",
      "Program                                                                                 SBIR\n",
      "Agency Tracking Number                                                                104842\n",
      "Contract                                                                          NNX11CE82P\n",
      "Proposal Award Date                                                               02-18-2011\n",
      "Contract End Date                                                                 09-29-2011\n",
      "Solicitation Number                                                                      NaN\n",
      "Solicitation Year                                                                       2010\n",
      "Topic Code                                                                              S105\n",
      "Award Year                                                                              2011\n",
      "Award Amount                                                                     $99,926.00 \n",
      "DUNS                                                                               067760363\n",
      "Hubzone Owned                                                                              N\n",
      "Socially and Economically Disadvantaged                                                    N\n",
      "Woman Owned                                                                                N\n",
      "Number Employees                                                                          15\n",
      "Company Website                                                                          NaN\n",
      "Address1                                                                   60 Saltspring Dr.\n",
      "Address2                                                                                 NaN\n",
      "City                                                                           Friday Harbor\n",
      "State                                                                                     WA\n",
      "Zip                                                                               98250-9026\n",
      "Contact Name                                                                    Dianne Hall \n",
      "Contact Title                                                              Business Official\n",
      "Contact Phone                                                                 (360) 378-4137\n",
      "Contact Email                                                          dianne.hall@luxel.com\n",
      "PI Name                                                                         David Grove \n",
      "PI Title                                                              Principal Investigator\n",
      "PI Phone                                                                      (360) 378-4137\n",
      "PI Email                                                               david.grove@luxel.com\n",
      "RI Name                                                                                 Stub\n",
      "RI POC Name                                                                              NaN\n",
      "RI POC Phone                                                                             NaN\n",
      "Research Keywords                          Analytical Instruments (Solid,Liquid,Gas,Plasm...\n",
      "Abstract                                   To fully realize the advances NASA has made in...\n",
      "Name: 893, dtype: object\n"
     ]
    }
   ],
   "source": [
    "print(df2)"
   ]
  },
  {
   "cell_type": "code",
   "execution_count": null,
   "metadata": {},
   "outputs": [],
   "source": []
  }
 ],
 "metadata": {
  "kernelspec": {
   "display_name": "Python 3",
   "language": "python",
   "name": "python3"
  },
  "language_info": {
   "codemirror_mode": {
    "name": "ipython",
    "version": 3
   },
   "file_extension": ".py",
   "mimetype": "text/x-python",
   "name": "python",
   "nbconvert_exporter": "python",
   "pygments_lexer": "ipython3",
   "version": "3.7.6"
  }
 },
 "nbformat": 4,
 "nbformat_minor": 4
}
